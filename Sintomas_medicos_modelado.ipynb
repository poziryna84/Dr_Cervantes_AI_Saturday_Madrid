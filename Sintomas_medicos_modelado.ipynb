{
  "nbformat": 4,
  "nbformat_minor": 0,
  "metadata": {
    "colab": {
      "name": "Sintomas_medicos_modelado.ipynb",
      "provenance": [],
      "collapsed_sections": [],
      "include_colab_link": true
    },
    "kernelspec": {
      "name": "python3",
      "display_name": "Python 3"
    }
  },
  "cells": [
    {
      "cell_type": "markdown",
      "metadata": {
        "id": "view-in-github",
        "colab_type": "text"
      },
      "source": [
        "<a href=\"https://colab.research.google.com/github/poziryna84/Dr_Cervantes_AI_Saturday_Madrid/blob/master/Sintomas_medicos_modelado.ipynb\" target=\"_parent\"><img src=\"https://colab.research.google.com/assets/colab-badge.svg\" alt=\"Open In Colab\"/></a>"
      ]
    },
    {
      "cell_type": "code",
      "metadata": {
        "id": "ARJ99dBe0XJn",
        "colab_type": "code",
        "colab": {
          "base_uri": "https://localhost:8080/",
          "height": 122
        },
        "outputId": "73f546ef-9eed-45d6-c484-b7205a30265a"
      },
      "source": [
        "from google.colab import drive\n",
        "drive.mount('/content/drive')"
      ],
      "execution_count": 1,
      "outputs": [
        {
          "output_type": "stream",
          "text": [
            "Go to this URL in a browser: https://accounts.google.com/o/oauth2/auth?client_id=947318989803-6bn6qk8qdgf4n4g3pfee6491hc0brc4i.apps.googleusercontent.com&redirect_uri=urn%3aietf%3awg%3aoauth%3a2.0%3aoob&response_type=code&scope=email%20https%3a%2f%2fwww.googleapis.com%2fauth%2fdocs.test%20https%3a%2f%2fwww.googleapis.com%2fauth%2fdrive%20https%3a%2f%2fwww.googleapis.com%2fauth%2fdrive.photos.readonly%20https%3a%2f%2fwww.googleapis.com%2fauth%2fpeopleapi.readonly\n",
            "\n",
            "Enter your authorization code:\n",
            "··········\n",
            "Mounted at /content/drive\n"
          ],
          "name": "stdout"
        }
      ]
    },
    {
      "cell_type": "code",
      "metadata": {
        "id": "8ZvkUc5Q078z",
        "colab_type": "code",
        "colab": {}
      },
      "source": [
        "import pandas as pd"
      ],
      "execution_count": 0,
      "outputs": []
    },
    {
      "cell_type": "markdown",
      "metadata": {
        "id": "FpS0AeqBNDkL",
        "colab_type": "text"
      },
      "source": [
        "### Cargamos los datos."
      ]
    },
    {
      "cell_type": "code",
      "metadata": {
        "id": "3tSM3H6S0-wb",
        "colab_type": "code",
        "colab": {}
      },
      "source": [
        "med_df = pd.read_excel('/content/drive/My Drive/Datos_medicos/datos_medicos.xlsx')"
      ],
      "execution_count": 0,
      "outputs": []
    },
    {
      "cell_type": "code",
      "metadata": {
        "id": "A1eTXWt53twM",
        "colab_type": "code",
        "colab": {
          "base_uri": "https://localhost:8080/",
          "height": 136
        },
        "outputId": "641a6092-faca-4231-b9a7-e9cd644e8acc"
      },
      "source": [
        "med_df.columns"
      ],
      "execution_count": 18,
      "outputs": [
        {
          "output_type": "execute_result",
          "data": {
            "text/plain": [
              "Index(['Unnamed: 0', 'IdIngreso', 'NºHISTORIAL', 'FECHA_ALTA', 'SERVICIO',\n",
              "       'MOTIVO_CONSULTA', 'ENF_ACTUAL', 'EXPLORACION1', 'ANALITICA1',\n",
              "       'EXPL_DIAGNOSTICAS1', 'INTERVENCIONES1', 'EvolucionComentarios',\n",
              "       'MotivoAlta', 'DiagnosticoPrincipalAlta', 'ServicioAlta',\n",
              "       'DestinoAlta1', 'RecomendacionesTerapeuticas1', 'CODIGODIAG1', 'DIAG1',\n",
              "       'aux_codigo', 'GENERAL_DIAG', 'SPECIFIC_DIAG'],\n",
              "      dtype='object')"
            ]
          },
          "metadata": {
            "tags": []
          },
          "execution_count": 18
        }
      ]
    },
    {
      "cell_type": "code",
      "metadata": {
        "id": "NIySNjK04qN6",
        "colab_type": "code",
        "colab": {}
      },
      "source": [
        "med_df['GENERAL_DIAG'] = med_df['GENERAL_DIAG'].apply(lambda x: ' '.join(x.split('. ')[1:]))"
      ],
      "execution_count": 0,
      "outputs": []
    },
    {
      "cell_type": "code",
      "metadata": {
        "id": "gR7UAFBW1Jrj",
        "colab_type": "code",
        "colab": {
          "base_uri": "https://localhost:8080/",
          "height": 306
        },
        "outputId": "c2536a5a-276b-4cf4-cdcf-7dd5c53af061"
      },
      "source": [
        "med_df['GENERAL_DIAG'].value_counts(normalize = True)"
      ],
      "execution_count": 20,
      "outputs": [
        {
          "output_type": "execute_result",
          "data": {
            "text/plain": [
              "ENFERMEDADES DEL APARATO RESPIRATORIO (460-519)                                                  0.158381\n",
              "ENFERMEDADES DEL SISTEMA OSTEO-MIOARTICULAR Y TEJIDO CONJUNTIVO (710-739)                        0.154886\n",
              "ENFERMEDADES DEL SISTEMA CIRCULATORIO (390-459)                                                  0.132670\n",
              "ENFERMEDADES DEL APARATO DIGESTIVO (520-579)                                                     0.105173\n",
              "LESIONES Y ENVENENAMIENTOS (800-999)                                                             0.093910\n",
              "NEOPLASIAS (140-239)                                                                             0.080006\n",
              "ENFERMEDADES DEL APARATO GENITOURINARIO (580-629)                                                0.078841\n",
              "SÍNTOMAS, SIGNOS Y ESTADOS MAL DEFINIDOS (780-799)                                               0.069675\n",
              "ENFERMEDADES DEL SISTEMA NERVIOSO Y DE LOS ÓRGANOS DE LOS SENTIDOS (320-389)                     0.052276\n",
              "ENFERMEDADES DE LA PIEL Y DEL TEJIDO SUBCUTÁNEO (680-709)                                        0.024701\n",
              "ENFERMEDADES INFECCIOSAS Y PARASITARIAS (001-139)                                                0.016700\n",
              "ENFERMEDADES ENDOCRINAS, DE LA NUTRICION Y METABOLICAS Y TRASTORNOS DE LA INMUNIDAD (240-279)    0.012040\n",
              "ENFERMEDADES DE LA SANGRE Y DE LOS ORGANOS HEMATOPOYÉTICOS (280-289)                             0.011807\n",
              "TRASTORNOS MENTALES, DEL COMPORTAMIENTO Y EL DESARROLLO NEUROLÓGICO (290-319)                    0.006913\n",
              "ANOMALIAS CONGÉNITAS (740-759)                                                                   0.001709\n",
              "COMPLICACIONES DEL EMBARAZO, PARTO Y PUERPERIO (630-679)                                         0.000311\n",
              "Name: GENERAL_DIAG, dtype: float64"
            ]
          },
          "metadata": {
            "tags": []
          },
          "execution_count": 20
        }
      ]
    },
    {
      "cell_type": "markdown",
      "metadata": {
        "id": "jdAzmq3HNSdb",
        "colab_type": "text"
      },
      "source": [
        "### Quitamos las etiquetas poco frequentes."
      ]
    },
    {
      "cell_type": "code",
      "metadata": {
        "id": "LwhetE9z3SyM",
        "colab_type": "code",
        "colab": {}
      },
      "source": [
        "med_df = med_df[(med_df['GENERAL_DIAG'] != 'COMPLICACIONES DEL EMBARAZO, PARTO Y PUERPERIO (630-679)') &\n",
        "(med_df['GENERAL_DIAG'] != 'ANOMALIAS CONGÉNITAS (740-759)') &\n",
        "(med_df['GENERAL_DIAG'] != 'TRASTORNOS MENTALES, DEL COMPORTAMIENTO Y EL DESARROLLO NEUROLÓGICO (290-319)') &\n",
        "(med_df['GENERAL_DIAG'] != 'ENFERMEDADES DE LA SANGRE Y DE LOS ORGANOS HEMATOPOYÉTICOS (280-289)') &\n",
        "(med_df['GENERAL_DIAG'] != 'ENFERMEDADES ENDOCRINAS, DE LA NUTRICION Y METABOLICAS Y TRASTORNOS DE LA INMUNIDAD (240-279)') &\n",
        "(med_df['GENERAL_DIAG'] != 'ENFERMEDADES INFECCIOSAS Y PARASITARIAS (001-139)') &\n",
        "(med_df['GENERAL_DIAG'] != 'ENFERMEDADES DE LA PIEL Y DEL TEJIDO SUBCUTÁNEO (680-709)')]\n"
      ],
      "execution_count": 0,
      "outputs": []
    },
    {
      "cell_type": "code",
      "metadata": {
        "id": "rqvM6bSa6L32",
        "colab_type": "code",
        "colab": {
          "base_uri": "https://localhost:8080/",
          "height": 187
        },
        "outputId": "c7530805-6c30-42bd-d8e9-896b6d1f5fe5"
      },
      "source": [
        "med_df['GENERAL_DIAG'].value_counts(normalize = True)"
      ],
      "execution_count": 143,
      "outputs": [
        {
          "output_type": "execute_result",
          "data": {
            "text/plain": [
              "ENFERMEDADES DEL APARATO RESPIRATORIO (460-519)                                 0.171071\n",
              "ENFERMEDADES DEL SISTEMA OSTEO-MIOARTICULAR Y TEJIDO CONJUNTIVO (710-739)       0.167296\n",
              "ENFERMEDADES DEL SISTEMA CIRCULATORIO (390-459)                                 0.143301\n",
              "ENFERMEDADES DEL APARATO DIGESTIVO (520-579)                                    0.113600\n",
              "LESIONES Y ENVENENAMIENTOS (800-999)                                            0.101435\n",
              "NEOPLASIAS (140-239)                                                            0.086417\n",
              "ENFERMEDADES DEL APARATO GENITOURINARIO (580-629)                               0.085158\n",
              "SÍNTOMAS, SIGNOS Y ESTADOS MAL DEFINIDOS (780-799)                              0.075258\n",
              "ENFERMEDADES DEL SISTEMA NERVIOSO Y DE LOS ÓRGANOS DE LOS SENTIDOS (320-389)    0.056464\n",
              "Name: GENERAL_DIAG, dtype: float64"
            ]
          },
          "metadata": {
            "tags": []
          },
          "execution_count": 143
        }
      ]
    },
    {
      "cell_type": "code",
      "metadata": {
        "id": "1Kjk8WBo6q1v",
        "colab_type": "code",
        "colab": {}
      },
      "source": [
        "df_final = med_df[['MOTIVO_CONSULTA','GENERAL_DIAG']]"
      ],
      "execution_count": 0,
      "outputs": []
    },
    {
      "cell_type": "markdown",
      "metadata": {
        "id": "s9iCuKAXNfop",
        "colab_type": "text"
      },
      "source": [
        "### Parte de preprocesamiento de texto."
      ]
    },
    {
      "cell_type": "code",
      "metadata": {
        "id": "Oks2tPCw8kSl",
        "colab_type": "code",
        "colab": {
          "base_uri": "https://localhost:8080/",
          "height": 119
        },
        "outputId": "6b680437-ca13-4a31-dccd-4b17a374412e"
      },
      "source": [
        "import nltk\n",
        "nltk.download('stopwords')\n",
        "from nltk.corpus import stopwords\n",
        "from nltk.tokenize import word_tokenize\n",
        "from nltk.stem import PorterStemmer\n",
        "nltk.download('punkt')\n",
        "nltk.download('wordnet')\n",
        "from nltk.stem import WordNetLemmatizer\n",
        "import re\n",
        "import string\n",
        "from gensim import corpora, models\n",
        "import gensim\n",
        "import unicodedata"
      ],
      "execution_count": 100,
      "outputs": [
        {
          "output_type": "stream",
          "text": [
            "[nltk_data] Downloading package stopwords to /root/nltk_data...\n",
            "[nltk_data]   Package stopwords is already up-to-date!\n",
            "[nltk_data] Downloading package punkt to /root/nltk_data...\n",
            "[nltk_data]   Package punkt is already up-to-date!\n",
            "[nltk_data] Downloading package wordnet to /root/nltk_data...\n",
            "[nltk_data]   Package wordnet is already up-to-date!\n"
          ],
          "name": "stdout"
        }
      ]
    },
    {
      "cell_type": "code",
      "metadata": {
        "id": "vXI3Je9OMfK0",
        "colab_type": "code",
        "colab": {}
      },
      "source": [
        "def find_age(string):\n",
        "  pattern = r'(\\d+)\\s?años'\n",
        "  if len(re.findall(pattern, string)) >0:\n",
        "    age = int(re.findall(pattern, string)[0])\n",
        "    if age <= 15:\n",
        "      age_group = 'niño'\n",
        "    elif 15 < age <= 30:\n",
        "      age_group = 'joven'\n",
        "    elif 30 < age <= 45:\n",
        "      age_group = 'adulto'\n",
        "    elif 45 < age <= 60:\n",
        "      age_group = 'maduro'\n",
        "    elif 60 < age <= 75:\n",
        "      age_group = 'mayor'\n",
        "    else:\n",
        "      age_group = 'anciano'\n",
        "    string = re.sub(pattern, age_group, string)\n",
        "    string = re.sub('años', '', string)\n",
        "\n",
        "  else:\n",
        "    string = string\n",
        "  return string"
      ],
      "execution_count": 0,
      "outputs": []
    },
    {
      "cell_type": "code",
      "metadata": {
        "id": "2pRgazqduDLC",
        "colab_type": "code",
        "colab": {}
      },
      "source": [
        "def strip_accents(text):\n",
        "  \n",
        "    text = unicodedata.normalize('NFD', text)\\\n",
        "           .encode('ascii', 'ignore')\\\n",
        "           .decode(\"utf-8\")\n",
        "\n",
        "    return str(text)\n"
      ],
      "execution_count": 0,
      "outputs": []
    },
    {
      "cell_type": "code",
      "metadata": {
        "id": "O2axdKxz6eoh",
        "colab_type": "code",
        "colab": {}
      },
      "source": [
        "def strip_accents_spain(string, accents=('COMBINING ACUTE ACCENT', 'COMBINING GRAVE ACCENT')):\n",
        "    accents = set(map(unicodedata.lookup, accents))\n",
        "    chars = [c for c in unicodedata.normalize('NFD', string) if c not in accents]\n",
        "    return unicodedata.normalize('NFC', ''.join(chars))"
      ],
      "execution_count": 0,
      "outputs": []
    },
    {
      "cell_type": "code",
      "metadata": {
        "id": "RSeQguMC8m94",
        "colab_type": "code",
        "colab": {}
      },
      "source": [
        "def text_prepro(cadena):\n",
        "  \n",
        "  cadena = cadena.lower()\n",
        "  cadena = find_age(cadena).replace('edad', '')\n",
        "  cadena = strip_accents(cadena)\n",
        "  result = re.sub(r'\\d+', '', cadena)\n",
        "  result = result.translate(str.maketrans('', '', string.punctuation))\n",
        "  result = result.strip()\n",
        "  stop_words = set(stopwords.words('spanish'))\n",
        "  word_tokens = word_tokenize(result) \n",
        "  filtered_sentence = [w for w in word_tokens if not w in stop_words and len(w) > 2]\n",
        "  lemmatizer=WordNetLemmatizer()\n",
        "  lematized_words = [lemmatizer.lemmatize(word) for word in filtered_sentence]\n",
        "  stemmer= PorterStemmer()\n",
        "  stemmed_words = [stemmer.stem(word) for word in lematized_words]\n",
        "  stemmed_string = ' '.join(stemmed_words)\n",
        "  return stemmed_string"
      ],
      "execution_count": 0,
      "outputs": []
    },
    {
      "cell_type": "code",
      "metadata": {
        "id": "lrt7xrz98zD7",
        "colab_type": "code",
        "colab": {
          "base_uri": "https://localhost:8080/",
          "height": 139
        },
        "outputId": "3fdf355a-69aa-4894-a97b-722efd6ec2e7"
      },
      "source": [
        "df_final['MOTIVO_TRANS'] = df_final['MOTIVO_CONSULTA'].apply(lambda x: text_prepro(x))"
      ],
      "execution_count": 389,
      "outputs": [
        {
          "output_type": "stream",
          "text": [
            "/usr/local/lib/python3.6/dist-packages/ipykernel_launcher.py:1: SettingWithCopyWarning: \n",
            "A value is trying to be set on a copy of a slice from a DataFrame.\n",
            "Try using .loc[row_indexer,col_indexer] = value instead\n",
            "\n",
            "See the caveats in the documentation: http://pandas.pydata.org/pandas-docs/stable/user_guide/indexing.html#returning-a-view-versus-a-copy\n",
            "  \"\"\"Entry point for launching an IPython kernel.\n"
          ],
          "name": "stderr"
        }
      ]
    },
    {
      "cell_type": "code",
      "metadata": {
        "id": "hMXtFotuADmm",
        "colab_type": "code",
        "colab": {
          "base_uri": "https://localhost:8080/",
          "height": 204
        },
        "outputId": "806957c2-5b6c-4569-f19d-2550c10b4bec"
      },
      "source": [
        "df_final[['MOTIVO_TRANS', 'MOTIVO_CONSULTA']].head(5)"
      ],
      "execution_count": 390,
      "outputs": [
        {
          "output_type": "execute_result",
          "data": {
            "text/html": [
              "<div>\n",
              "<style scoped>\n",
              "    .dataframe tbody tr th:only-of-type {\n",
              "        vertical-align: middle;\n",
              "    }\n",
              "\n",
              "    .dataframe tbody tr th {\n",
              "        vertical-align: top;\n",
              "    }\n",
              "\n",
              "    .dataframe thead th {\n",
              "        text-align: right;\n",
              "    }\n",
              "</style>\n",
              "<table border=\"1\" class=\"dataframe\">\n",
              "  <thead>\n",
              "    <tr style=\"text-align: right;\">\n",
              "      <th></th>\n",
              "      <th>MOTIVO_TRANS</th>\n",
              "      <th>MOTIVO_CONSULTA</th>\n",
              "    </tr>\n",
              "  </thead>\n",
              "  <tbody>\n",
              "    <tr>\n",
              "      <th>0</th>\n",
              "      <td>pacient mayor derivada servicio digestivo hud ...</td>\n",
              "      <td>Paciente de 74 años de edad que es derivada de...</td>\n",
              "    </tr>\n",
              "    <tr>\n",
              "      <th>1</th>\n",
              "      <td>mujer mayor ingresa procedent onkologikoa npt ...</td>\n",
              "      <td>Mujer de 70años, ingresa procedente de Onkolog...</td>\n",
              "    </tr>\n",
              "    <tr>\n",
              "      <th>2</th>\n",
              "      <td>pacient acud presentar traumatismo pelvi tra c...</td>\n",
              "      <td>paciente  que acude  por presentar   traumatis...</td>\n",
              "    </tr>\n",
              "    <tr>\n",
              "      <th>3</th>\n",
              "      <td>ingresa forma programada tratamiento quirurgic...</td>\n",
              "      <td>Ingresa de forma programada para tratamiento q...</td>\n",
              "    </tr>\n",
              "    <tr>\n",
              "      <th>4</th>\n",
              "      <td>ingresa forma programada tratamiento quirurgic...</td>\n",
              "      <td>Ingresa de forma programada para tratamiento q...</td>\n",
              "    </tr>\n",
              "  </tbody>\n",
              "</table>\n",
              "</div>"
            ],
            "text/plain": [
              "                                        MOTIVO_TRANS                                    MOTIVO_CONSULTA\n",
              "0  pacient mayor derivada servicio digestivo hud ...  Paciente de 74 años de edad que es derivada de...\n",
              "1  mujer mayor ingresa procedent onkologikoa npt ...  Mujer de 70años, ingresa procedente de Onkolog...\n",
              "2  pacient acud presentar traumatismo pelvi tra c...  paciente  que acude  por presentar   traumatis...\n",
              "3  ingresa forma programada tratamiento quirurgic...  Ingresa de forma programada para tratamiento q...\n",
              "4  ingresa forma programada tratamiento quirurgic...  Ingresa de forma programada para tratamiento q..."
            ]
          },
          "metadata": {
            "tags": []
          },
          "execution_count": 390
        }
      ]
    },
    {
      "cell_type": "code",
      "metadata": {
        "id": "7wW3xUhTaige",
        "colab_type": "code",
        "colab": {}
      },
      "source": [
        "from sklearn.model_selection import train_test_split\n",
        "from sklearn.feature_extraction.text import CountVectorizer, TfidfVectorizer\n",
        "from sklearn.metrics import accuracy_score, confusion_matrix\n",
        "import matplotlib.pyplot as plt\n",
        "from sklearn.metrics import classification_report\n",
        "import joblib\n",
        "from sklearn.ensemble import RandomForestClassifier\n",
        "from sklearn.naive_bayes import MultinomialNB\n",
        "from sklearn.pipeline import Pipeline\n",
        "from sklearn.feature_extraction.text import TfidfTransformer\n",
        "from sklearn.metrics import f1_score"
      ],
      "execution_count": 0,
      "outputs": []
    },
    {
      "cell_type": "code",
      "metadata": {
        "id": "gWtYnrKjaP6c",
        "colab_type": "code",
        "colab": {}
      },
      "source": [
        "X = df_final['MOTIVO_TRANS']\n",
        "y = df_final['GENERAL_DIAG']\n",
        "X_train, X_test, y_train, y_test = train_test_split(X, y, test_size=0.05, random_state = 42)"
      ],
      "execution_count": 0,
      "outputs": []
    },
    {
      "cell_type": "markdown",
      "metadata": {
        "id": "hWQuV-qiN9dl",
        "colab_type": "text"
      },
      "source": [
        "Analizamos las palabras por su frecuencia."
      ]
    },
    {
      "cell_type": "code",
      "metadata": {
        "id": "jXCoHx7ECEkt",
        "colab_type": "code",
        "colab": {}
      },
      "source": [
        "vec = CountVectorizer().fit(df_final['MOTIVO_TRANS'])"
      ],
      "execution_count": 0,
      "outputs": []
    },
    {
      "cell_type": "code",
      "metadata": {
        "id": "bmdT5D8aC-Bq",
        "colab_type": "code",
        "colab": {
          "base_uri": "https://localhost:8080/",
          "height": 34
        },
        "outputId": "5526d721-48a8-4fe6-a707-313016d8f867"
      },
      "source": [
        "2131/len(df_final['MOTIVO_TRANS'])"
      ],
      "execution_count": 401,
      "outputs": [
        {
          "output_type": "execute_result",
          "data": {
            "text/plain": [
              "0.17879016696031547"
            ]
          },
          "metadata": {
            "tags": []
          },
          "execution_count": 401
        }
      ]
    },
    {
      "cell_type": "code",
      "metadata": {
        "id": "vkt_Cb-nAtSw",
        "colab_type": "code",
        "colab": {}
      },
      "source": [
        "bag_of_words = vec.transform(df_final['MOTIVO_TRANS'])"
      ],
      "execution_count": 0,
      "outputs": []
    },
    {
      "cell_type": "code",
      "metadata": {
        "id": "ruIdaN7fCLKO",
        "colab_type": "code",
        "colab": {}
      },
      "source": [
        "sum_words = bag_of_words.sum(axis=0)"
      ],
      "execution_count": 0,
      "outputs": []
    },
    {
      "cell_type": "code",
      "metadata": {
        "id": "_5eCzAUqCPB7",
        "colab_type": "code",
        "colab": {}
      },
      "source": [
        "words_freq = [(word, sum_words[0, idx]) for word, idx in vec.vocabulary_.items()]"
      ],
      "execution_count": 0,
      "outputs": []
    },
    {
      "cell_type": "code",
      "metadata": {
        "id": "Pf90FV7hCSGC",
        "colab_type": "code",
        "colab": {}
      },
      "source": [
        "words_freq =sorted(words_freq, key = lambda x: x[1], reverse=True)"
      ],
      "execution_count": 0,
      "outputs": []
    },
    {
      "cell_type": "code",
      "metadata": {
        "id": "FRO2LcpdCY0v",
        "colab_type": "code",
        "colab": {
          "base_uri": "https://localhost:8080/",
          "height": 289
        },
        "outputId": "52f6dcd8-94da-4cd0-b5cf-02364d19a2e6"
      },
      "source": [
        "words_freq[:16]"
      ],
      "execution_count": 440,
      "outputs": [
        {
          "output_type": "execute_result",
          "data": {
            "text/plain": [
              "[('ingresa', 5880),\n",
              " ('tratamiento', 4964),\n",
              " ('pacient', 3870),\n",
              " ('programada', 3501),\n",
              " ('tra', 2836),\n",
              " ('intervencion', 2755),\n",
              " ('forma', 2669),\n",
              " ('estudio', 2651),\n",
              " ('consentimiento', 2550),\n",
              " ('informado', 2539),\n",
              " ('preoperatorio', 2538),\n",
              " ('riesgo', 2537),\n",
              " ('firma', 2531),\n",
              " ('explicado', 2530),\n",
              " ('asi', 2526),\n",
              " ('serl', 2522)]"
            ]
          },
          "metadata": {
            "tags": []
          },
          "execution_count": 440
        }
      ]
    },
    {
      "cell_type": "code",
      "metadata": {
        "id": "FZt1W3LDMPCV",
        "colab_type": "code",
        "colab": {
          "base_uri": "https://localhost:8080/",
          "height": 34
        },
        "outputId": "7c4f5a2f-76cd-4cb8-dc29-c17574cc6459"
      },
      "source": [
        "2522/len(df_final['MOTIVO_TRANS'])"
      ],
      "execution_count": 441,
      "outputs": [
        {
          "output_type": "execute_result",
          "data": {
            "text/plain": [
              "0.2115949324607769"
            ]
          },
          "metadata": {
            "tags": []
          },
          "execution_count": 441
        }
      ]
    },
    {
      "cell_type": "markdown",
      "metadata": {
        "id": "jMhtek0TOfap",
        "colab_type": "text"
      },
      "source": [
        "### Naive Bayes model pipeline"
      ]
    },
    {
      "cell_type": "code",
      "metadata": {
        "id": "gsbaZK_Mazx0",
        "colab_type": "code",
        "colab": {
          "base_uri": "https://localhost:8080/",
          "height": 306
        },
        "outputId": "443aed00-4191-43c1-efb6-0203798d9c60"
      },
      "source": [
        "nb = Pipeline([('vect', CountVectorizer(max_df = 0.3, min_df = 0.00000001)),\n",
        "               ('tfidf', TfidfTransformer()),\n",
        "               ('clf', MultinomialNB()),\n",
        "              ])\n",
        "nb.fit(X_train, y_train)\n"
      ],
      "execution_count": 447,
      "outputs": [
        {
          "output_type": "execute_result",
          "data": {
            "text/plain": [
              "Pipeline(memory=None,\n",
              "         steps=[('vect',\n",
              "                 CountVectorizer(analyzer='word', binary=False,\n",
              "                                 decode_error='strict',\n",
              "                                 dtype=<class 'numpy.int64'>, encoding='utf-8',\n",
              "                                 input='content', lowercase=True, max_df=0.3,\n",
              "                                 max_features=None, min_df=1e-08,\n",
              "                                 ngram_range=(1, 1), preprocessor=None,\n",
              "                                 stop_words=None, strip_accents=None,\n",
              "                                 token_pattern='(?u)\\\\b\\\\w\\\\w+\\\\b',\n",
              "                                 tokenizer=None, vocabulary=None)),\n",
              "                ('tfidf',\n",
              "                 TfidfTransformer(norm='l2', smooth_idf=True,\n",
              "                                  sublinear_tf=False, use_idf=True)),\n",
              "                ('clf',\n",
              "                 MultinomialNB(alpha=1.0, class_prior=None, fit_prior=True))],\n",
              "         verbose=False)"
            ]
          },
          "metadata": {
            "tags": []
          },
          "execution_count": 447
        }
      ]
    },
    {
      "cell_type": "code",
      "metadata": {
        "id": "EhLHMFe3c68Y",
        "colab_type": "code",
        "colab": {}
      },
      "source": [
        "y_pred = nb.predict(X_test)"
      ],
      "execution_count": 0,
      "outputs": []
    },
    {
      "cell_type": "markdown",
      "metadata": {
        "id": "IvzhSrL9O0DH",
        "colab_type": "text"
      },
      "source": [
        "### Los resultados del modelo."
      ]
    },
    {
      "cell_type": "code",
      "metadata": {
        "id": "FmvipYBbdB1d",
        "colab_type": "code",
        "colab": {
          "base_uri": "https://localhost:8080/",
          "height": 34
        },
        "outputId": "1ab4d59d-faa0-4ccc-c70f-c6abb0b3266e"
      },
      "source": [
        "print('accuracy %s' % accuracy_score(y_pred, y_test))"
      ],
      "execution_count": 444,
      "outputs": [
        {
          "output_type": "stream",
          "text": [
            "accuracy 0.6778523489932886\n"
          ],
          "name": "stdout"
        }
      ]
    },
    {
      "cell_type": "code",
      "metadata": {
        "id": "mEXxYssxdM4J",
        "colab_type": "code",
        "colab": {
          "base_uri": "https://localhost:8080/",
          "height": 309
        },
        "outputId": "c0118afc-0f55-495c-b381-982c7f42b98c"
      },
      "source": [
        "print(classification_report(y_test, y_pred))"
      ],
      "execution_count": 445,
      "outputs": [
        {
          "output_type": "stream",
          "text": [
            "                                                                              precision    recall  f1-score   support\n",
            "\n",
            "                                ENFERMEDADES DEL APARATO DIGESTIVO (520-579)       0.69      0.84      0.76        69\n",
            "                           ENFERMEDADES DEL APARATO GENITOURINARIO (580-629)       0.67      0.29      0.41        48\n",
            "                             ENFERMEDADES DEL APARATO RESPIRATORIO (460-519)       0.56      0.91      0.70       113\n",
            "                             ENFERMEDADES DEL SISTEMA CIRCULATORIO (390-459)       0.51      0.55      0.53        80\n",
            "ENFERMEDADES DEL SISTEMA NERVIOSO Y DE LOS ÓRGANOS DE LOS SENTIDOS (320-389)       0.95      0.61      0.74        33\n",
            "   ENFERMEDADES DEL SISTEMA OSTEO-MIOARTICULAR Y TEJIDO CONJUNTIVO (710-739)       0.89      0.89      0.89       109\n",
            "                                        LESIONES Y ENVENENAMIENTOS (800-999)       0.82      0.71      0.76        52\n",
            "                                                        NEOPLASIAS (140-239)       0.78      0.48      0.60        52\n",
            "                          SÍNTOMAS, SIGNOS Y ESTADOS MAL DEFINIDOS (780-799)       0.43      0.15      0.22        40\n",
            "\n",
            "                                                                    accuracy                           0.68       596\n",
            "                                                                   macro avg       0.70      0.60      0.62       596\n",
            "                                                                weighted avg       0.69      0.68      0.66       596\n",
            "\n"
          ],
          "name": "stdout"
        }
      ]
    },
    {
      "cell_type": "code",
      "metadata": {
        "id": "tvCItHNLeE2j",
        "colab_type": "code",
        "colab": {
          "base_uri": "https://localhost:8080/",
          "height": 34
        },
        "outputId": "56bf6bce-9023-4084-aa08-215709842e82"
      },
      "source": [
        "f1_score(y_test, y_pred, average='macro')"
      ],
      "execution_count": 449,
      "outputs": [
        {
          "output_type": "execute_result",
          "data": {
            "text/plain": [
              "0.6219838892044569"
            ]
          },
          "metadata": {
            "tags": []
          },
          "execution_count": 449
        }
      ]
    },
    {
      "cell_type": "markdown",
      "metadata": {
        "id": "Y3ivVyW6PBRn",
        "colab_type": "text"
      },
      "source": [
        "### Aplicacion y serializacion del modelo."
      ]
    },
    {
      "cell_type": "code",
      "metadata": {
        "colab_type": "code",
        "outputId": "893eb8b5-3e21-4027-a528-f66ad7bd40d2",
        "id": "5Cr6jkV6L4Du",
        "colab": {
          "base_uri": "https://localhost:8080/",
          "height": 34
        }
      },
      "source": [
        "joblib.dump(nb, '/content/drive/My Drive/Datos_medicos/nb_model.sav')"
      ],
      "execution_count": 434,
      "outputs": [
        {
          "output_type": "execute_result",
          "data": {
            "text/plain": [
              "['/content/drive/My Drive/Datos_medicos/nb_model.sav']"
            ]
          },
          "metadata": {
            "tags": []
          },
          "execution_count": 434
        }
      ]
    },
    {
      "cell_type": "code",
      "metadata": {
        "id": "IADmzWN_yw4t",
        "colab_type": "code",
        "colab": {}
      },
      "source": [
        "def text_to_class(text):\n",
        "  \n",
        "  loaded_model = joblib.load('/content/drive/My Drive/Datos_medicos/nb_model.sav')\n",
        "\n",
        "  text = text_prepro(text)\n",
        "  prueba = pd.Series(text)\n",
        "  output = loaded_model.predict(prueba)\n",
        "\n",
        "  return output[0].split('(')[0].strip()"
      ],
      "execution_count": 0,
      "outputs": []
    },
    {
      "cell_type": "code",
      "metadata": {
        "id": "fIC5cFHPwx4j",
        "colab_type": "code",
        "colab": {
          "base_uri": "https://localhost:8080/",
          "height": 34
        },
        "outputId": "7880c720-358f-4729-9f4b-8234dc8dc77c"
      },
      "source": [
        "text_to_class('ingresa forma programada tratamiento quirúrgico enf dupuytren º dedo mano izquierda prevista realización fasciotomía palmar tra estudio preoperatorio serl explicado consist intervención riesgo así alternativa tratamiento firma consentimiento informado')"
      ],
      "execution_count": 377,
      "outputs": [
        {
          "output_type": "execute_result",
          "data": {
            "text/plain": [
              "'ENFERMEDADES DEL SISTEMA OSTEO-MIOARTICULAR Y TEJIDO CONJUNTIVO'"
            ]
          },
          "metadata": {
            "tags": []
          },
          "execution_count": 377
        }
      ]
    }
  ]
}