{
  "nbformat": 4,
  "nbformat_minor": 0,
  "metadata": {
    "colab": {
      "name": "Sintomas_medicos_modelado.ipynb",
      "provenance": [],
      "collapsed_sections": [],
      "toc_visible": true,
      "include_colab_link": true
    },
    "kernelspec": {
      "name": "python3",
      "display_name": "Python 3"
    }
  },
  "cells": [
    {
      "cell_type": "markdown",
      "metadata": {
        "id": "view-in-github",
        "colab_type": "text"
      },
      "source": [
        "<a href=\"https://colab.research.google.com/github/poziryna84/Dr_Cervantes_AI_Saturday_Madrid/blob/master/Sintomas_medicos_modelado.ipynb\" target=\"_parent\"><img src=\"https://colab.research.google.com/assets/colab-badge.svg\" alt=\"Open In Colab\"/></a>"
      ]
    },
    {
      "cell_type": "code",
      "metadata": {
        "id": "ARJ99dBe0XJn",
        "colab_type": "code",
        "outputId": "4802d16b-071e-4c01-b5ce-28ebec581817",
        "colab": {
          "base_uri": "https://localhost:8080/",
          "height": 122
        }
      },
      "source": [
        "from google.colab import drive\n",
        "drive.mount('/content/drive')"
      ],
      "execution_count": 4,
      "outputs": [
        {
          "output_type": "stream",
          "text": [
            "Go to this URL in a browser: https://accounts.google.com/o/oauth2/auth?client_id=947318989803-6bn6qk8qdgf4n4g3pfee6491hc0brc4i.apps.googleusercontent.com&redirect_uri=urn%3aietf%3awg%3aoauth%3a2.0%3aoob&response_type=code&scope=email%20https%3a%2f%2fwww.googleapis.com%2fauth%2fdocs.test%20https%3a%2f%2fwww.googleapis.com%2fauth%2fdrive%20https%3a%2f%2fwww.googleapis.com%2fauth%2fdrive.photos.readonly%20https%3a%2f%2fwww.googleapis.com%2fauth%2fpeopleapi.readonly\n",
            "\n",
            "Enter your authorization code:\n",
            "··········\n",
            "Mounted at /content/drive\n"
          ],
          "name": "stdout"
        }
      ]
    },
    {
      "cell_type": "code",
      "metadata": {
        "id": "8ZvkUc5Q078z",
        "colab_type": "code",
        "colab": {}
      },
      "source": [
        "import pandas as pd"
      ],
      "execution_count": 0,
      "outputs": []
    },
    {
      "cell_type": "markdown",
      "metadata": {
        "id": "FpS0AeqBNDkL",
        "colab_type": "text"
      },
      "source": [
        "### Cargamos los datos."
      ]
    },
    {
      "cell_type": "code",
      "metadata": {
        "id": "3tSM3H6S0-wb",
        "colab_type": "code",
        "colab": {}
      },
      "source": [
        "med_df = pd.read_excel('/content/drive/My Drive/Datos_medicos/datos_medicos.xlsx')"
      ],
      "execution_count": 0,
      "outputs": []
    },
    {
      "cell_type": "code",
      "metadata": {
        "id": "A1eTXWt53twM",
        "colab_type": "code",
        "outputId": "73243b28-ee62-4fa2-b5af-5535b2605e0f",
        "colab": {
          "base_uri": "https://localhost:8080/",
          "height": 136
        }
      },
      "source": [
        "med_df.columns"
      ],
      "execution_count": 262,
      "outputs": [
        {
          "output_type": "execute_result",
          "data": {
            "text/plain": [
              "Index(['Unnamed: 0', 'IdIngreso', 'NºHISTORIAL', 'FECHA_ALTA', 'SERVICIO',\n",
              "       'MOTIVO_CONSULTA', 'ENF_ACTUAL', 'EXPLORACION1', 'ANALITICA1',\n",
              "       'EXPL_DIAGNOSTICAS1', 'INTERVENCIONES1', 'EvolucionComentarios',\n",
              "       'MotivoAlta', 'DiagnosticoPrincipalAlta', 'ServicioAlta',\n",
              "       'DestinoAlta1', 'RecomendacionesTerapeuticas1', 'CODIGODIAG1', 'DIAG1',\n",
              "       'aux_codigo', 'GENERAL_DIAG', 'SPECIFIC_DIAG'],\n",
              "      dtype='object')"
            ]
          },
          "metadata": {
            "tags": []
          },
          "execution_count": 262
        }
      ]
    },
    {
      "cell_type": "code",
      "metadata": {
        "id": "NIySNjK04qN6",
        "colab_type": "code",
        "colab": {}
      },
      "source": [
        "med_df['GENERAL_DIAG'] = med_df['GENERAL_DIAG'].apply(lambda x: ' '.join(x.split('. ')[1:]))"
      ],
      "execution_count": 0,
      "outputs": []
    },
    {
      "cell_type": "code",
      "metadata": {
        "id": "gR7UAFBW1Jrj",
        "colab_type": "code",
        "outputId": "9df5087b-2582-42b7-bef0-17c04e242ec2",
        "colab": {
          "base_uri": "https://localhost:8080/",
          "height": 306
        }
      },
      "source": [
        "med_df['GENERAL_DIAG'].value_counts(normalize = True)"
      ],
      "execution_count": 264,
      "outputs": [
        {
          "output_type": "execute_result",
          "data": {
            "text/plain": [
              "ENFERMEDADES DEL APARATO RESPIRATORIO (460-519)                                                  0.158381\n",
              "ENFERMEDADES DEL SISTEMA OSTEO-MIOARTICULAR Y TEJIDO CONJUNTIVO (710-739)                        0.154886\n",
              "ENFERMEDADES DEL SISTEMA CIRCULATORIO (390-459)                                                  0.132670\n",
              "ENFERMEDADES DEL APARATO DIGESTIVO (520-579)                                                     0.105173\n",
              "LESIONES Y ENVENENAMIENTOS (800-999)                                                             0.093910\n",
              "NEOPLASIAS (140-239)                                                                             0.080006\n",
              "ENFERMEDADES DEL APARATO GENITOURINARIO (580-629)                                                0.078841\n",
              "SÍNTOMAS, SIGNOS Y ESTADOS MAL DEFINIDOS (780-799)                                               0.069675\n",
              "ENFERMEDADES DEL SISTEMA NERVIOSO Y DE LOS ÓRGANOS DE LOS SENTIDOS (320-389)                     0.052276\n",
              "ENFERMEDADES DE LA PIEL Y DEL TEJIDO SUBCUTÁNEO (680-709)                                        0.024701\n",
              "ENFERMEDADES INFECCIOSAS Y PARASITARIAS (001-139)                                                0.016700\n",
              "ENFERMEDADES ENDOCRINAS, DE LA NUTRICION Y METABOLICAS Y TRASTORNOS DE LA INMUNIDAD (240-279)    0.012040\n",
              "ENFERMEDADES DE LA SANGRE Y DE LOS ORGANOS HEMATOPOYÉTICOS (280-289)                             0.011807\n",
              "TRASTORNOS MENTALES, DEL COMPORTAMIENTO Y EL DESARROLLO NEUROLÓGICO (290-319)                    0.006913\n",
              "ANOMALIAS CONGÉNITAS (740-759)                                                                   0.001709\n",
              "COMPLICACIONES DEL EMBARAZO, PARTO Y PUERPERIO (630-679)                                         0.000311\n",
              "Name: GENERAL_DIAG, dtype: float64"
            ]
          },
          "metadata": {
            "tags": []
          },
          "execution_count": 264
        }
      ]
    },
    {
      "cell_type": "markdown",
      "metadata": {
        "id": "jdAzmq3HNSdb",
        "colab_type": "text"
      },
      "source": [
        "### Quitamos las etiquetas poco frequentes."
      ]
    },
    {
      "cell_type": "code",
      "metadata": {
        "id": "LwhetE9z3SyM",
        "colab_type": "code",
        "colab": {}
      },
      "source": [
        "med_df = med_df[(med_df['GENERAL_DIAG'] != 'COMPLICACIONES DEL EMBARAZO, PARTO Y PUERPERIO (630-679)') &\n",
        "(med_df['GENERAL_DIAG'] != 'ANOMALIAS CONGÉNITAS (740-759)') &\n",
        "(med_df['GENERAL_DIAG'] != 'TRASTORNOS MENTALES, DEL COMPORTAMIENTO Y EL DESARROLLO NEUROLÓGICO (290-319)') &\n",
        "(med_df['GENERAL_DIAG'] != 'ENFERMEDADES DE LA SANGRE Y DE LOS ORGANOS HEMATOPOYÉTICOS (280-289)') &\n",
        "(med_df['GENERAL_DIAG'] != 'ENFERMEDADES ENDOCRINAS, DE LA NUTRICION Y METABOLICAS Y TRASTORNOS DE LA INMUNIDAD (240-279)') &\n",
        "(med_df['GENERAL_DIAG'] != 'ENFERMEDADES INFECCIOSAS Y PARASITARIAS (001-139)') &\n",
        "(med_df['GENERAL_DIAG'] != 'ENFERMEDADES DE LA PIEL Y DEL TEJIDO SUBCUTÁNEO (680-709)')]\n"
      ],
      "execution_count": 0,
      "outputs": []
    },
    {
      "cell_type": "code",
      "metadata": {
        "id": "rqvM6bSa6L32",
        "colab_type": "code",
        "outputId": "fd5a4420-f90c-4584-e229-d693b2242444",
        "colab": {
          "base_uri": "https://localhost:8080/",
          "height": 187
        }
      },
      "source": [
        "med_df['GENERAL_DIAG'].value_counts(normalize = True)"
      ],
      "execution_count": 266,
      "outputs": [
        {
          "output_type": "execute_result",
          "data": {
            "text/plain": [
              "ENFERMEDADES DEL APARATO RESPIRATORIO (460-519)                                 0.171071\n",
              "ENFERMEDADES DEL SISTEMA OSTEO-MIOARTICULAR Y TEJIDO CONJUNTIVO (710-739)       0.167296\n",
              "ENFERMEDADES DEL SISTEMA CIRCULATORIO (390-459)                                 0.143301\n",
              "ENFERMEDADES DEL APARATO DIGESTIVO (520-579)                                    0.113600\n",
              "LESIONES Y ENVENENAMIENTOS (800-999)                                            0.101435\n",
              "NEOPLASIAS (140-239)                                                            0.086417\n",
              "ENFERMEDADES DEL APARATO GENITOURINARIO (580-629)                               0.085158\n",
              "SÍNTOMAS, SIGNOS Y ESTADOS MAL DEFINIDOS (780-799)                              0.075258\n",
              "ENFERMEDADES DEL SISTEMA NERVIOSO Y DE LOS ÓRGANOS DE LOS SENTIDOS (320-389)    0.056464\n",
              "Name: GENERAL_DIAG, dtype: float64"
            ]
          },
          "metadata": {
            "tags": []
          },
          "execution_count": 266
        }
      ]
    },
    {
      "cell_type": "code",
      "metadata": {
        "id": "1Kjk8WBo6q1v",
        "colab_type": "code",
        "colab": {}
      },
      "source": [
        "df_final = med_df[['MOTIVO_CONSULTA','GENERAL_DIAG']]"
      ],
      "execution_count": 0,
      "outputs": []
    },
    {
      "cell_type": "markdown",
      "metadata": {
        "id": "s9iCuKAXNfop",
        "colab_type": "text"
      },
      "source": [
        "### Parte de preprocesamiento de texto."
      ]
    },
    {
      "cell_type": "code",
      "metadata": {
        "id": "Oks2tPCw8kSl",
        "colab_type": "code",
        "outputId": "244d8f88-7867-433f-d3fb-2a9fc0bf8f8d",
        "colab": {
          "base_uri": "https://localhost:8080/",
          "height": 119
        }
      },
      "source": [
        "import nltk\n",
        "nltk.download('stopwords')\n",
        "from nltk.corpus import stopwords\n",
        "from nltk.tokenize import word_tokenize\n",
        "from nltk.stem import PorterStemmer\n",
        "nltk.download('punkt')\n",
        "nltk.download('wordnet')\n",
        "from nltk.stem import WordNetLemmatizer\n",
        "import re\n",
        "import string\n",
        "#from gensim import corpora, models\n",
        "#import gensim\n",
        "#import unicodedata"
      ],
      "execution_count": 15,
      "outputs": [
        {
          "output_type": "stream",
          "text": [
            "[nltk_data] Downloading package stopwords to /root/nltk_data...\n",
            "[nltk_data]   Unzipping corpora/stopwords.zip.\n",
            "[nltk_data] Downloading package punkt to /root/nltk_data...\n",
            "[nltk_data]   Unzipping tokenizers/punkt.zip.\n",
            "[nltk_data] Downloading package wordnet to /root/nltk_data...\n",
            "[nltk_data]   Unzipping corpora/wordnet.zip.\n"
          ],
          "name": "stdout"
        }
      ]
    },
    {
      "cell_type": "code",
      "metadata": {
        "id": "vXI3Je9OMfK0",
        "colab_type": "code",
        "colab": {}
      },
      "source": [
        "def find_age(string):\n",
        "  pattern = r'(\\d+)\\s?años'\n",
        "  if len(re.findall(pattern, string)) >0:\n",
        "    age = int(re.findall(pattern, string)[0])\n",
        "    if age <= 15:\n",
        "      age_group = 'niño'\n",
        "    elif 15 < age <= 30:\n",
        "      age_group = 'joven'\n",
        "    elif 30 < age <= 45:\n",
        "      age_group = 'adulto'\n",
        "    elif 45 < age <= 60:\n",
        "      age_group = 'maduro'\n",
        "    elif 60 < age <= 75:\n",
        "      age_group = 'mayor'\n",
        "    else:\n",
        "      age_group = 'anciano'\n",
        "    string = re.sub(pattern, age_group, string)\n",
        "    string = re.sub('años', '', string)\n",
        "\n",
        "  else:\n",
        "    string = string\n",
        "  return string"
      ],
      "execution_count": 0,
      "outputs": []
    },
    {
      "cell_type": "code",
      "metadata": {
        "id": "2pRgazqduDLC",
        "colab_type": "code",
        "colab": {}
      },
      "source": [
        "def strip_accents(text):\n",
        "  \n",
        "    text = unicodedata.normalize('NFD', text)\\\n",
        "           .encode('ascii', 'ignore')\\\n",
        "           .decode(\"utf-8\")\n",
        "\n",
        "    return str(text)\n"
      ],
      "execution_count": 0,
      "outputs": []
    },
    {
      "cell_type": "code",
      "metadata": {
        "id": "RSeQguMC8m94",
        "colab_type": "code",
        "colab": {}
      },
      "source": [
        "def text_prepro(cadena):\n",
        "  \n",
        "  cadena = cadena.lower()\n",
        "  cadena = find_age(cadena).replace('edad', '')\n",
        "  cadena = strip_accents(cadena)\n",
        "  result = re.sub(r'\\d+', '', cadena)\n",
        "  result = result.translate(str.maketrans('', '', string.punctuation))\n",
        "  result = result.strip()\n",
        "  stop_words = set(stopwords.words('spanish'))\n",
        "  word_tokens = word_tokenize(result) \n",
        "  filtered_sentence = [w for w in word_tokens if not w in stop_words and len(w) > 2]\n",
        "  lemmatizer=WordNetLemmatizer()\n",
        "  lematized_words = [lemmatizer.lemmatize(word) for word in filtered_sentence]\n",
        "  stemmer= PorterStemmer()\n",
        "  stemmed_words = [stemmer.stem(word) for word in lematized_words]\n",
        "  stemmed_string = ' '.join(stemmed_words)\n",
        "  return stemmed_string"
      ],
      "execution_count": 0,
      "outputs": []
    },
    {
      "cell_type": "code",
      "metadata": {
        "id": "lrt7xrz98zD7",
        "colab_type": "code",
        "outputId": "4910d061-126c-4da0-a4ed-ff835c1400d4",
        "colab": {
          "base_uri": "https://localhost:8080/",
          "height": 139
        }
      },
      "source": [
        "df_final['MOTIVO_TRANS'] = df_final['MOTIVO_CONSULTA'].apply(lambda x: text_prepro(x))"
      ],
      "execution_count": 268,
      "outputs": [
        {
          "output_type": "stream",
          "text": [
            "/usr/local/lib/python3.6/dist-packages/ipykernel_launcher.py:1: SettingWithCopyWarning: \n",
            "A value is trying to be set on a copy of a slice from a DataFrame.\n",
            "Try using .loc[row_indexer,col_indexer] = value instead\n",
            "\n",
            "See the caveats in the documentation: http://pandas.pydata.org/pandas-docs/stable/user_guide/indexing.html#returning-a-view-versus-a-copy\n",
            "  \"\"\"Entry point for launching an IPython kernel.\n"
          ],
          "name": "stderr"
        }
      ]
    },
    {
      "cell_type": "code",
      "metadata": {
        "id": "hMXtFotuADmm",
        "colab_type": "code",
        "outputId": "a1f51d78-6f36-4391-d92a-538c0af765fd",
        "colab": {
          "base_uri": "https://localhost:8080/",
          "height": 204
        }
      },
      "source": [
        "df_final[['MOTIVO_TRANS', 'MOTIVO_CONSULTA']].head(5)"
      ],
      "execution_count": 269,
      "outputs": [
        {
          "output_type": "execute_result",
          "data": {
            "text/html": [
              "<div>\n",
              "<style scoped>\n",
              "    .dataframe tbody tr th:only-of-type {\n",
              "        vertical-align: middle;\n",
              "    }\n",
              "\n",
              "    .dataframe tbody tr th {\n",
              "        vertical-align: top;\n",
              "    }\n",
              "\n",
              "    .dataframe thead th {\n",
              "        text-align: right;\n",
              "    }\n",
              "</style>\n",
              "<table border=\"1\" class=\"dataframe\">\n",
              "  <thead>\n",
              "    <tr style=\"text-align: right;\">\n",
              "      <th></th>\n",
              "      <th>MOTIVO_TRANS</th>\n",
              "      <th>MOTIVO_CONSULTA</th>\n",
              "    </tr>\n",
              "  </thead>\n",
              "  <tbody>\n",
              "    <tr>\n",
              "      <th>0</th>\n",
              "      <td>pacient mayor derivada servicio digestivo hud ...</td>\n",
              "      <td>Paciente de 74 años de edad que es derivada de...</td>\n",
              "    </tr>\n",
              "    <tr>\n",
              "      <th>1</th>\n",
              "      <td>mujer mayor ingresa procedent onkologikoa npt ...</td>\n",
              "      <td>Mujer de 70años, ingresa procedente de Onkolog...</td>\n",
              "    </tr>\n",
              "    <tr>\n",
              "      <th>2</th>\n",
              "      <td>pacient acud presentar traumatismo pelvi tra c...</td>\n",
              "      <td>paciente  que acude  por presentar   traumatis...</td>\n",
              "    </tr>\n",
              "    <tr>\n",
              "      <th>3</th>\n",
              "      <td>ingresa forma programada tratamiento quirurgic...</td>\n",
              "      <td>Ingresa de forma programada para tratamiento q...</td>\n",
              "    </tr>\n",
              "    <tr>\n",
              "      <th>4</th>\n",
              "      <td>ingresa forma programada tratamiento quirurgic...</td>\n",
              "      <td>Ingresa de forma programada para tratamiento q...</td>\n",
              "    </tr>\n",
              "  </tbody>\n",
              "</table>\n",
              "</div>"
            ],
            "text/plain": [
              "                                        MOTIVO_TRANS                                    MOTIVO_CONSULTA\n",
              "0  pacient mayor derivada servicio digestivo hud ...  Paciente de 74 años de edad que es derivada de...\n",
              "1  mujer mayor ingresa procedent onkologikoa npt ...  Mujer de 70años, ingresa procedente de Onkolog...\n",
              "2  pacient acud presentar traumatismo pelvi tra c...  paciente  que acude  por presentar   traumatis...\n",
              "3  ingresa forma programada tratamiento quirurgic...  Ingresa de forma programada para tratamiento q...\n",
              "4  ingresa forma programada tratamiento quirurgic...  Ingresa de forma programada para tratamiento q..."
            ]
          },
          "metadata": {
            "tags": []
          },
          "execution_count": 269
        }
      ]
    },
    {
      "cell_type": "code",
      "metadata": {
        "id": "7wW3xUhTaige",
        "colab_type": "code",
        "colab": {}
      },
      "source": [
        "from sklearn.model_selection import train_test_split\n",
        "from sklearn.feature_extraction.text import CountVectorizer, TfidfVectorizer\n",
        "from sklearn.metrics import accuracy_score, confusion_matrix\n",
        "import matplotlib.pyplot as plt\n",
        "from sklearn.metrics import classification_report\n",
        "import joblib\n",
        "from sklearn.ensemble import RandomForestClassifier\n",
        "from sklearn.naive_bayes import MultinomialNB\n",
        "from sklearn.pipeline import Pipeline\n",
        "from sklearn.feature_extraction.text import TfidfTransformer\n",
        "from sklearn.metrics import f1_score"
      ],
      "execution_count": 0,
      "outputs": []
    },
    {
      "cell_type": "code",
      "metadata": {
        "id": "gWtYnrKjaP6c",
        "colab_type": "code",
        "colab": {}
      },
      "source": [
        "X = df_final['MOTIVO_TRANS']\n",
        "y = df_final['GENERAL_DIAG']\n",
        "X_train, X_test, y_train, y_test = train_test_split(X, y, test_size = 0.05, \n",
        "                                                    stratify = y,\n",
        "                                                    random_state = 42)"
      ],
      "execution_count": 0,
      "outputs": []
    },
    {
      "cell_type": "markdown",
      "metadata": {
        "id": "jMhtek0TOfap",
        "colab_type": "text"
      },
      "source": [
        "### Naive Bayes model pipeline."
      ]
    },
    {
      "cell_type": "code",
      "metadata": {
        "colab_type": "code",
        "id": "l8Fvx9C6_egl",
        "colab": {}
      },
      "source": [
        "nb = Pipeline([('vect', CountVectorizer(binary=True)),\n",
        "               ('tfidf', TfidfTransformer()),\n",
        "               ('clf', MultinomialNB())\n",
        "              ])\n",
        "nb.fit(X_train, y_train)\n",
        "\n",
        "y_pred = nb.predict(X_test)"
      ],
      "execution_count": 0,
      "outputs": []
    },
    {
      "cell_type": "code",
      "metadata": {
        "id": "CPvCuyVY65BR",
        "colab_type": "code",
        "colab": {
          "base_uri": "https://localhost:8080/",
          "height": 343
        },
        "outputId": "8f0c6197-8434-410a-f4ed-ef78349307b4"
      },
      "source": [
        "print('accuracy %s' % accuracy_score(y_pred, y_test))\n",
        "print('F1 %s' % f1_score(y_test, y_pred, average='macro'))\n",
        "print(classification_report(y_test, y_pred))"
      ],
      "execution_count": 272,
      "outputs": [
        {
          "output_type": "stream",
          "text": [
            "accuracy 0.6895973154362416\n",
            "F1 0.6470837072413749\n",
            "                                                                              precision    recall  f1-score   support\n",
            "\n",
            "                                ENFERMEDADES DEL APARATO DIGESTIVO (520-579)       0.75      0.79      0.77        68\n",
            "                           ENFERMEDADES DEL APARATO GENITOURINARIO (580-629)       0.70      0.65      0.67        51\n",
            "                             ENFERMEDADES DEL APARATO RESPIRATORIO (460-519)       0.55      0.92      0.69       102\n",
            "                             ENFERMEDADES DEL SISTEMA CIRCULATORIO (390-459)       0.56      0.58      0.57        85\n",
            "ENFERMEDADES DEL SISTEMA NERVIOSO Y DE LOS ÓRGANOS DE LOS SENTIDOS (320-389)       1.00      0.71      0.83        34\n",
            "   ENFERMEDADES DEL SISTEMA OSTEO-MIOARTICULAR Y TEJIDO CONJUNTIVO (710-739)       0.84      0.91      0.87       100\n",
            "                                        LESIONES Y ENVENENAMIENTOS (800-999)       0.85      0.68      0.76        60\n",
            "                                                        NEOPLASIAS (140-239)       0.76      0.43      0.55        51\n",
            "                          SÍNTOMAS, SIGNOS Y ESTADOS MAL DEFINIDOS (780-799)       0.33      0.07      0.11        45\n",
            "\n",
            "                                                                    accuracy                           0.69       596\n",
            "                                                                   macro avg       0.71      0.64      0.65       596\n",
            "                                                                weighted avg       0.69      0.69      0.67       596\n",
            "\n"
          ],
          "name": "stdout"
        }
      ]
    },
    {
      "cell_type": "markdown",
      "metadata": {
        "id": "Lc3ppX2z_jUv",
        "colab_type": "text"
      },
      "source": [
        "Como vemos algunas de las etiquetas tienen un recall muy bajo. Intentamos equilibrar las predicciones jugando con class weights:"
      ]
    },
    {
      "cell_type": "code",
      "metadata": {
        "id": "Id_9NbeM65Os",
        "colab_type": "code",
        "colab": {}
      },
      "source": [
        "def class_weights_fix(classes_list, labels):\n",
        "\n",
        "  ''' The function that takes 'model.classes_' and labels of y as an input and \n",
        "  returns a list of new weights as an output.\n",
        "  '''\n",
        "  class_weight = []\n",
        "  \n",
        "  for i in classes_list:\n",
        "    number_of_classes = len(classes_list)\n",
        "    ideal_weight = 1/number_of_classes\n",
        "    df_value_counts = labels.value_counts(normalize = True).to_frame(\n",
        "    ).reset_index()\n",
        "    df_value_counts.columns = ['class', 'proportion']\n",
        "    proportion = df_value_counts['proportion'][df_value_counts['class'] == i].values[0]\n",
        "    new_weight = ideal_weight/proportion\n",
        "    class_weight.append(round(new_weight, 2))\n",
        "    \n",
        "  return class_weight "
      ],
      "execution_count": 0,
      "outputs": []
    },
    {
      "cell_type": "code",
      "metadata": {
        "id": "lS6TBomB7X13",
        "colab_type": "code",
        "colab": {}
      },
      "source": [
        "class_weight = class_weights_fix(nb.classes_, y)"
      ],
      "execution_count": 0,
      "outputs": []
    },
    {
      "cell_type": "markdown",
      "metadata": {
        "id": "0wYa_K5EAZ9E",
        "colab_type": "text"
      },
      "source": [
        "###Naive Bayes model with Adjusted Class Weights pipeline."
      ]
    },
    {
      "cell_type": "code",
      "metadata": {
        "id": "6TK7YMxL7-Dg",
        "colab_type": "code",
        "colab": {}
      },
      "source": [
        "nb_clw = Pipeline([('vect', CountVectorizer(binary=True)),\n",
        "               ('tfidf', TfidfTransformer()),\n",
        "               ('clf', MultinomialNB(class_prior = class_weight))\n",
        "              ])\n",
        "nb_clw.fit(X_train, y_train)\n",
        "y_pred_clw = nb_clw.predict(X_test)"
      ],
      "execution_count": 0,
      "outputs": []
    },
    {
      "cell_type": "code",
      "metadata": {
        "id": "1Oxqv8p87ors",
        "colab_type": "code",
        "colab": {
          "base_uri": "https://localhost:8080/",
          "height": 343
        },
        "outputId": "2212e3d7-657e-4547-f37f-fef88a5ac771"
      },
      "source": [
        "print('class weighted accuracy %s' % accuracy_score(y_pred_clw, y_test))\n",
        "print('class weighted f1 score %s' % f1_score(y_test, y_pred_clw, average='macro'))\n",
        "print(classification_report(y_test, y_pred_clw))"
      ],
      "execution_count": 302,
      "outputs": [
        {
          "output_type": "stream",
          "text": [
            "class weighted accuracy 0.714765100671141\n",
            "class weighted f1 score 0.690152063455231\n",
            "                                                                              precision    recall  f1-score   support\n",
            "\n",
            "                                ENFERMEDADES DEL APARATO DIGESTIVO (520-579)       0.77      0.74      0.75        68\n",
            "                           ENFERMEDADES DEL APARATO GENITOURINARIO (580-629)       0.62      0.76      0.68        51\n",
            "                             ENFERMEDADES DEL APARATO RESPIRATORIO (460-519)       0.75      0.75      0.75       102\n",
            "                             ENFERMEDADES DEL SISTEMA CIRCULATORIO (390-459)       0.70      0.69      0.70        85\n",
            "ENFERMEDADES DEL SISTEMA NERVIOSO Y DE LOS ÓRGANOS DE LOS SENTIDOS (320-389)       0.69      0.74      0.71        34\n",
            "   ENFERMEDADES DEL SISTEMA OSTEO-MIOARTICULAR Y TEJIDO CONJUNTIVO (710-739)       0.91      0.86      0.88       100\n",
            "                                        LESIONES Y ENVENENAMIENTOS (800-999)       0.80      0.72      0.75        60\n",
            "                                                        NEOPLASIAS (140-239)       0.60      0.55      0.57        51\n",
            "                          SÍNTOMAS, SIGNOS Y ESTADOS MAL DEFINIDOS (780-799)       0.38      0.42      0.40        45\n",
            "\n",
            "                                                                    accuracy                           0.71       596\n",
            "                                                                   macro avg       0.69      0.69      0.69       596\n",
            "                                                                weighted avg       0.72      0.71      0.72       596\n",
            "\n"
          ],
          "name": "stdout"
        }
      ]
    },
    {
      "cell_type": "markdown",
      "metadata": {
        "id": "K0aSr8OfAwPm",
        "colab_type": "text"
      },
      "source": [
        "Ahora tenemos F1 score y los recalls de las salidas mas altos."
      ]
    },
    {
      "cell_type": "markdown",
      "metadata": {
        "id": "IvzhSrL9O0DH",
        "colab_type": "text"
      },
      "source": [
        "### Stochastic Gradient Descent pipeline."
      ]
    },
    {
      "cell_type": "code",
      "metadata": {
        "id": "FmvipYBbdB1d",
        "colab_type": "code",
        "colab": {}
      },
      "source": [
        "from sklearn.linear_model import SGDClassifier\n",
        "nb_sgd = Pipeline([('vect', CountVectorizer(binary=True)),\n",
        "               ('tfidf', TfidfTransformer()),\n",
        "               ('clf-svm', SGDClassifier())\n",
        "              ])\n",
        "nb_sgd.fit(X_train, y_train)\n",
        "\n",
        "y_pred_sgd = nb_svm.predict(X_test)"
      ],
      "execution_count": 0,
      "outputs": []
    },
    {
      "cell_type": "code",
      "metadata": {
        "id": "mEXxYssxdM4J",
        "colab_type": "code",
        "outputId": "2e04a2c3-2248-4215-f600-f1b94a752593",
        "colab": {
          "base_uri": "https://localhost:8080/",
          "height": 343
        }
      },
      "source": [
        "print('SGD accuracy %s' % accuracy_score(y_pred, y_test))\n",
        "print('SGD f1 score %s' % f1_score(y_test, y_pred, average='macro'))\n",
        "print(classification_report(y_test, y_pred))"
      ],
      "execution_count": 290,
      "outputs": [
        {
          "output_type": "stream",
          "text": [
            "SGD accuracy 0.7265100671140939\n",
            "SGD f1 score 0.692121223594548\n",
            "                                                                              precision    recall  f1-score   support\n",
            "\n",
            "                                ENFERMEDADES DEL APARATO DIGESTIVO (520-579)       0.73      0.82      0.77        68\n",
            "                           ENFERMEDADES DEL APARATO GENITOURINARIO (580-629)       0.69      0.80      0.75        51\n",
            "                             ENFERMEDADES DEL APARATO RESPIRATORIO (460-519)       0.65      0.84      0.74       102\n",
            "                             ENFERMEDADES DEL SISTEMA CIRCULATORIO (390-459)       0.62      0.67      0.64        85\n",
            "ENFERMEDADES DEL SISTEMA NERVIOSO Y DE LOS ÓRGANOS DE LOS SENTIDOS (320-389)       0.86      0.74      0.79        34\n",
            "   ENFERMEDADES DEL SISTEMA OSTEO-MIOARTICULAR Y TEJIDO CONJUNTIVO (710-739)       0.87      0.90      0.89       100\n",
            "                                        LESIONES Y ENVENENAMIENTOS (800-999)       0.78      0.77      0.77        60\n",
            "                                                        NEOPLASIAS (140-239)       0.88      0.45      0.60        51\n",
            "                          SÍNTOMAS, SIGNOS Y ESTADOS MAL DEFINIDOS (780-799)       0.47      0.20      0.28        45\n",
            "\n",
            "                                                                    accuracy                           0.73       596\n",
            "                                                                   macro avg       0.73      0.69      0.69       596\n",
            "                                                                weighted avg       0.73      0.73      0.71       596\n",
            "\n"
          ],
          "name": "stdout"
        }
      ]
    },
    {
      "cell_type": "markdown",
      "metadata": {
        "id": "Y3ivVyW6PBRn",
        "colab_type": "text"
      },
      "source": [
        "### Aplicacion y serializacion del modelo."
      ]
    },
    {
      "cell_type": "code",
      "metadata": {
        "colab_type": "code",
        "outputId": "1ee95161-954d-425c-b350-bfba1b39274a",
        "id": "5Cr6jkV6L4Du",
        "colab": {
          "base_uri": "https://localhost:8080/",
          "height": 34
        }
      },
      "source": [
        "joblib.dump(nb_clw, '/content/drive/My Drive/Datos_medicos/nb_model.sav')"
      ],
      "execution_count": 303,
      "outputs": [
        {
          "output_type": "execute_result",
          "data": {
            "text/plain": [
              "['/content/drive/My Drive/Datos_medicos/nb_model.sav']"
            ]
          },
          "metadata": {
            "tags": []
          },
          "execution_count": 303
        }
      ]
    },
    {
      "cell_type": "code",
      "metadata": {
        "id": "IADmzWN_yw4t",
        "colab_type": "code",
        "colab": {}
      },
      "source": [
        "def text_to_class(text):\n",
        "  \n",
        "  loaded_model = joblib.load('/content/drive/My Drive/Datos_medicos/nb_model.sav')\n",
        "\n",
        "  text = text_prepro(text)\n",
        "  prueba = pd.Series(text)\n",
        "  output = loaded_model.predict(prueba)\n",
        "\n",
        "  return output[0].split('(')[0].strip()"
      ],
      "execution_count": 0,
      "outputs": []
    },
    {
      "cell_type": "code",
      "metadata": {
        "id": "fIC5cFHPwx4j",
        "colab_type": "code",
        "outputId": "4d987819-814f-4688-8f22-8dccca0d9a66",
        "colab": {
          "base_uri": "https://localhost:8080/",
          "height": 34
        }
      },
      "source": [
        "text_to_class('Golpe en la cabeza')"
      ],
      "execution_count": 312,
      "outputs": [
        {
          "output_type": "execute_result",
          "data": {
            "text/plain": [
              "'LESIONES Y ENVENENAMIENTOS'"
            ]
          },
          "metadata": {
            "tags": []
          },
          "execution_count": 312
        }
      ]
    }
  ]
}