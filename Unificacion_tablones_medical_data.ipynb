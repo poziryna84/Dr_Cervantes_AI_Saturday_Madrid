{
  "nbformat": 4,
  "nbformat_minor": 0,
  "metadata": {
    "colab": {
      "name": "Unificacion_tablones_medical_data.ipynb",
      "provenance": [],
      "collapsed_sections": [],
      "toc_visible": true,
      "machine_shape": "hm",
      "include_colab_link": true
    },
    "kernelspec": {
      "name": "python3",
      "display_name": "Python 3"
    }
  },
  "cells": [
    {
      "cell_type": "markdown",
      "metadata": {
        "id": "view-in-github",
        "colab_type": "text"
      },
      "source": [
        "<a href=\"https://colab.research.google.com/github/poziryna84/Dr_Cervantes_AI_Saturday_Madrid/blob/master/Unificacion_tablones_medical_data.ipynb\" target=\"_parent\"><img src=\"https://colab.research.google.com/assets/colab-badge.svg\" alt=\"Open In Colab\"/></a>"
      ]
    },
    {
      "cell_type": "code",
      "metadata": {
        "id": "d8yej6SMkkr7",
        "colab_type": "code",
        "outputId": "f6adb0c3-b152-402d-df54-c4283852ce38",
        "colab": {
          "base_uri": "https://localhost:8080/",
          "height": 122
        }
      },
      "source": [
        "from google.colab import drive\n",
        "drive.mount('/content/drive')"
      ],
      "execution_count": 1,
      "outputs": [
        {
          "output_type": "stream",
          "text": [
            "Go to this URL in a browser: https://accounts.google.com/o/oauth2/auth?client_id=947318989803-6bn6qk8qdgf4n4g3pfee6491hc0brc4i.apps.googleusercontent.com&redirect_uri=urn%3aietf%3awg%3aoauth%3a2.0%3aoob&response_type=code&scope=email%20https%3a%2f%2fwww.googleapis.com%2fauth%2fdocs.test%20https%3a%2f%2fwww.googleapis.com%2fauth%2fdrive%20https%3a%2f%2fwww.googleapis.com%2fauth%2fdrive.photos.readonly%20https%3a%2f%2fwww.googleapis.com%2fauth%2fpeopleapi.readonly\n",
            "\n",
            "Enter your authorization code:\n",
            "··········\n",
            "Mounted at /content/drive\n"
          ],
          "name": "stdout"
        }
      ]
    },
    {
      "cell_type": "code",
      "metadata": {
        "id": "4krDlDGEkmLD",
        "colab_type": "code",
        "colab": {}
      },
      "source": [
        "import xml.etree.ElementTree as et \n",
        "import pandas as pd\n",
        "import re"
      ],
      "execution_count": 0,
      "outputs": []
    },
    {
      "cell_type": "markdown",
      "metadata": {
        "id": "ifcdnNIoBoWo",
        "colab_type": "text"
      },
      "source": [
        "## Carga y limpieza basica de los datos.\n"
      ]
    },
    {
      "cell_type": "code",
      "metadata": {
        "id": "6t9FqMqdtzD9",
        "colab_type": "code",
        "colab": {}
      },
      "source": [
        "def path_to_df(path):\n",
        "  '''\n",
        "  Function that takes a path of a xml file and returns pandas data frame object.\n",
        "  '''\n",
        "  xtree = et.parse(path)\n",
        "  xroot = xtree.getroot()\n",
        "  lista_1 = []\n",
        "  for i in xroot:\n",
        "    lista_1.append(i)\n",
        "  etiquetas = []\n",
        "  valores = []\n",
        "  for i in lista_1:\n",
        "    valores_ = []\n",
        "    for e in i:\n",
        "      valores_.append(e.text)\n",
        "      if e.tag not in etiquetas:\n",
        "        etiquetas.append(e.tag)\n",
        "    valores.append(valores_)\n",
        "  df_out = pd.DataFrame(valores)\n",
        "  df_out.columns = etiquetas\n",
        "  return df_out\n",
        "  "
      ],
      "execution_count": 0,
      "outputs": []
    },
    {
      "cell_type": "code",
      "metadata": {
        "id": "DBV8_elnu9S8",
        "colab_type": "code",
        "colab": {}
      },
      "source": [
        "df_raw = path_to_df('/content/drive/My Drive/Datos_medicos/ALTAS-SEMANHIS.xml')"
      ],
      "execution_count": 0,
      "outputs": []
    },
    {
      "cell_type": "code",
      "metadata": {
        "id": "HEekCEg46hG5",
        "colab_type": "code",
        "colab": {}
      },
      "source": [
        "df_raw = df_raw.drop_duplicates(keep='first')"
      ],
      "execution_count": 0,
      "outputs": []
    },
    {
      "cell_type": "code",
      "metadata": {
        "id": "SdRsGXVxwHj2",
        "colab_type": "code",
        "outputId": "43f5f0ca-9e2c-42b4-8196-fe905d411bed",
        "colab": {
          "base_uri": "https://localhost:8080/",
          "height": 408
        }
      },
      "source": [
        "df_raw.info()"
      ],
      "execution_count": 0,
      "outputs": [
        {
          "output_type": "stream",
          "text": [
            "<class 'pandas.core.frame.DataFrame'>\n",
            "Int64Index: 19467 entries, 0 to 20230\n",
            "Data columns (total 18 columns):\n",
            "IdIngreso                       19467 non-null object\n",
            "N_x00BA_HISTORIAL               19467 non-null object\n",
            "FECHA_ALTA                      19467 non-null object\n",
            "SERVICIO                        19467 non-null object\n",
            "MOTIVO_CONSULTA                 19460 non-null object\n",
            "ENF_ACTUAL                      19460 non-null object\n",
            "EXPLORACION1                    19399 non-null object\n",
            "ANALITICA1                      19399 non-null object\n",
            "EXPL_DIAGNOSTICAS1              19399 non-null object\n",
            "INTERVENCIONES1                 19399 non-null object\n",
            "EvolucionComentarios            19396 non-null object\n",
            "MotivoAlta                      19396 non-null object\n",
            "DiagnosticoPrincipalAlta        18656 non-null object\n",
            "ServicioAlta                    18649 non-null object\n",
            "DestinoAlta1                    18628 non-null object\n",
            "RecomendacionesTerapeuticas1    18414 non-null object\n",
            "CODIGODIAG1                     17589 non-null object\n",
            "DIAG1                           13212 non-null object\n",
            "dtypes: object(18)\n",
            "memory usage: 2.8+ MB\n"
          ],
          "name": "stdout"
        }
      ]
    },
    {
      "cell_type": "code",
      "metadata": {
        "id": "aGv4jTbp6Dbc",
        "colab_type": "code",
        "colab": {}
      },
      "source": [
        "df_raw = df_raw[df_raw['DIAG1'].notna()]"
      ],
      "execution_count": 0,
      "outputs": []
    },
    {
      "cell_type": "code",
      "metadata": {
        "id": "s81tnXGn7f1a",
        "colab_type": "code",
        "colab": {}
      },
      "source": [
        "df_raw = df_raw.drop_duplicates(subset = ['IdIngreso'], keep ='first')"
      ],
      "execution_count": 0,
      "outputs": []
    },
    {
      "cell_type": "markdown",
      "metadata": {
        "id": "ZoVc2d_QCCYx",
        "colab_type": "text"
      },
      "source": [
        "## Creamos nueva columna 'aux_codigo' convertiendo los codigos de diagnosticos en columna 'CODIGODIAG1' en tipo float."
      ]
    },
    {
      "cell_type": "code",
      "metadata": {
        "id": "Qmns73ao4BNK",
        "colab_type": "code",
        "colab": {}
      },
      "source": [
        "df_raw['aux_codigo'] = df_raw['CODIGODIAG1'].apply(lambda x: float(x) \n",
        "if not x.lower().startswith('v') else 0.0)"
      ],
      "execution_count": 0,
      "outputs": []
    },
    {
      "cell_type": "markdown",
      "metadata": {
        "id": "pUsKBf3RCXRt",
        "colab_type": "text"
      },
      "source": [
        "# Cargamos el fichero .txt con los codigos y sus diagnosticos."
      ]
    },
    {
      "cell_type": "code",
      "metadata": {
        "id": "x7rpSySgXNrc",
        "colab_type": "code",
        "colab": {}
      },
      "source": [
        "lines = []\n",
        "for line in open('/content/drive/My Drive/Datos_medicos/CIE9_mapeoPorGrupos (2).txt', encoding = \"ISO-8859-1\"):\n",
        "  if (line != '\\n') and line != ('CLASIFICACION DE ENFERMEDADES Y LESIONES\\n'):\n",
        "    lines.append((str(line)))"
      ],
      "execution_count": 0,
      "outputs": []
    },
    {
      "cell_type": "code",
      "metadata": {
        "id": "5AtqEs35RZIx",
        "colab_type": "code",
        "colab": {}
      },
      "source": [
        "lista_general = []\n",
        "lista_specific = []\n",
        "for i in lines:\n",
        "  if i.replace('.', '').split()[0].isdigit():\n",
        "    lista_general.append(i)\n",
        "    lista_specific.append('')\n",
        "  else:\n",
        "    lista_specific.append(i)\n",
        "    lista_general.extend([lista_general[-1]])"
      ],
      "execution_count": 0,
      "outputs": []
    },
    {
      "cell_type": "markdown",
      "metadata": {
        "id": "Dd9e-kwgD8_j",
        "colab_type": "text"
      },
      "source": [
        "### Creamos data frame df_aux con los diagnosticos y los codigos."
      ]
    },
    {
      "cell_type": "code",
      "metadata": {
        "id": "JLLXtOpLZ3eg",
        "colab_type": "code",
        "colab": {}
      },
      "source": [
        "df_aux = pd.DataFrame([lista_general, lista_specific]).T\n",
        "df_aux.columns = ['general', 'specific']"
      ],
      "execution_count": 0,
      "outputs": []
    },
    {
      "cell_type": "code",
      "metadata": {
        "id": "BOx443nBZ_pv",
        "colab_type": "code",
        "colab": {}
      },
      "source": [
        "df_aux = df_aux[df_aux['specific'] != '']"
      ],
      "execution_count": 0,
      "outputs": []
    },
    {
      "cell_type": "code",
      "metadata": {
        "id": "1-Mpme4IgPdq",
        "colab_type": "code",
        "colab": {}
      },
      "source": [
        "df_aux['min_specific'] = df_aux['specific'].apply(lambda x: int(re.findall('(\\d+)', x)[0]))\n"
      ],
      "execution_count": 0,
      "outputs": []
    },
    {
      "cell_type": "code",
      "metadata": {
        "id": "6ZP3rUekjbQC",
        "colab_type": "code",
        "colab": {}
      },
      "source": [
        "df_aux['max_specific'] = df_aux['specific'].apply(lambda x: int(re.findall('(\\d+)', x)[1]) if \n",
        "                                                  len(re.findall('(\\d+)', x)) == 2 \n",
        "                                                      else int(re.findall('(\\d+)', x)[0]))"
      ],
      "execution_count": 0,
      "outputs": []
    },
    {
      "cell_type": "code",
      "metadata": {
        "id": "8xfAFmMluHzs",
        "colab_type": "code",
        "colab": {}
      },
      "source": [
        "df_aux['minmax_specific'] = list(zip(df_aux.min_specific, df_aux.max_specific))"
      ],
      "execution_count": 0,
      "outputs": []
    },
    {
      "cell_type": "code",
      "metadata": {
        "id": "PPff4QYq3IXU",
        "colab_type": "code",
        "colab": {}
      },
      "source": [
        "df_aux['minmax_general'] = df_aux['general'].apply(lambda x: re.findall('(\\d+)\\-(\\d+)', x)[0])"
      ],
      "execution_count": 0,
      "outputs": []
    },
    {
      "cell_type": "code",
      "metadata": {
        "id": "AzczCQ_HtOQ7",
        "colab_type": "code",
        "colab": {}
      },
      "source": [
        "def general(number):\n",
        "  '''\n",
        "     Funcion que coge como entrada un numero y devuelve\n",
        "     un diagnostico general.\n",
        "  '''\n",
        "  for i in df_aux['minmax_general'].drop_duplicates():\n",
        "    if (number >= int(i[0])) and (number <= int(i[1])):\n",
        "      string = df_aux['general'][df_aux['minmax_general'] == i].values[0]\n",
        "      output = string.replace('\\n', '')\n",
        "      return output"
      ],
      "execution_count": 0,
      "outputs": []
    },
    {
      "cell_type": "code",
      "metadata": {
        "id": "wP-ceBn6zwAZ",
        "colab_type": "code",
        "colab": {}
      },
      "source": [
        "def specific(number):\n",
        "  '''\n",
        "     Funcion que coge como entrada un numero y devuelve\n",
        "     un diagnostico especifico.\n",
        "  '''\n",
        "  for i in df_aux['minmax_specific']:\n",
        "    if (number >= int(i[0])) and (number <= int(i[1])):\n",
        "      string = df_aux['specific'][df_aux['minmax_specific'] == i].values[0]\n",
        "      output = string.replace('\\n', '')\n",
        "      return output"
      ],
      "execution_count": 0,
      "outputs": []
    },
    {
      "cell_type": "markdown",
      "metadata": {
        "id": "gMQ8kYRVCqA8",
        "colab_type": "text"
      },
      "source": [
        "# Creamos nuevos variables 'GENERAL_DIAG' y 'SPECIFIC_DIAG' identificando los diagnosticos generales y especificos por la columna 'aux_codigo' aplicando las funciones general y specific."
      ]
    },
    {
      "cell_type": "code",
      "metadata": {
        "id": "kHs0-f5W1fGn",
        "colab_type": "code",
        "colab": {}
      },
      "source": [
        "df_raw['GENERAL_DIAG'] = df_raw['aux_codigo'].apply(lambda x: general(x))"
      ],
      "execution_count": 0,
      "outputs": []
    },
    {
      "cell_type": "code",
      "metadata": {
        "id": "Wl2dQ6Jz9_dD",
        "colab_type": "code",
        "outputId": "a4923598-ce26-4d88-b118-9c6def99447a",
        "colab": {
          "base_uri": "https://localhost:8080/",
          "height": 323
        }
      },
      "source": [
        "df_raw['GENERAL_DIAG'].value_counts(dropna = False)"
      ],
      "execution_count": 0,
      "outputs": [
        {
          "output_type": "execute_result",
          "data": {
            "text/plain": [
              "8. ENFERMEDADES DEL APARATO RESPIRATORIO (460-519)                                                  2039\n",
              "13. ENFERMEDADES DEL SISTEMA OSTEO-MIOARTICULAR Y TEJIDO CONJUNTIVO (710-739)                       1994\n",
              "7. ENFERMEDADES DEL SISTEMA CIRCULATORIO (390-459)                                                  1708\n",
              "9. ENFERMEDADES DEL APARATO DIGESTIVO (520-579)                                                     1354\n",
              "17. LESIONES Y ENVENENAMIENTOS (800-999)                                                            1209\n",
              "2. NEOPLASIAS (140-239)                                                                             1030\n",
              "10. ENFERMEDADES DEL APARATO GENITOURINARIO (580-629)                                               1015\n",
              "16. SÍNTOMAS, SIGNOS Y ESTADOS MAL DEFINIDOS (780-799)                                               897\n",
              "6. ENFERMEDADES DEL SISTEMA NERVIOSO Y DE LOS ÓRGANOS DE LOS SENTIDOS (320-389)                      673\n",
              "NaN                                                                                                  337\n",
              "12. ENFERMEDADES DE LA PIEL Y DEL TEJIDO SUBCUTÁNEO (680-709)                                        318\n",
              "1. ENFERMEDADES INFECCIOSAS Y PARASITARIAS (001-139)                                                 215\n",
              "3. ENFERMEDADES ENDOCRINAS, DE LA NUTRICION Y METABOLICAS Y TRASTORNOS DE LA INMUNIDAD (240-279)     155\n",
              "4. ENFERMEDADES DE LA SANGRE Y DE LOS ORGANOS HEMATOPOYÉTICOS (280-289)                              152\n",
              "5. TRASTORNOS MENTALES, DEL COMPORTAMIENTO Y EL DESARROLLO NEUROLÓGICO (290-319)                      89\n",
              "14. ANOMALIAS CONGÉNITAS (740-759)                                                                    22\n",
              "11. COMPLICACIONES DEL EMBARAZO, PARTO Y PUERPERIO (630-679)                                           4\n",
              "Name: GENERAL_DIAG, dtype: int64"
            ]
          },
          "metadata": {
            "tags": []
          },
          "execution_count": 104
        }
      ]
    },
    {
      "cell_type": "code",
      "metadata": {
        "id": "R9On4xdvG9Yu",
        "colab_type": "code",
        "colab": {}
      },
      "source": [
        "df_raw = df_raw[df_raw['GENERAL_DIAG'].notna()]"
      ],
      "execution_count": 0,
      "outputs": []
    },
    {
      "cell_type": "code",
      "metadata": {
        "id": "1YY5IntH2iS5",
        "colab_type": "code",
        "colab": {}
      },
      "source": [
        "df_raw['SPECIFIC_DIAG'] = df_raw['aux_codigo'].apply(lambda x: specific(x))"
      ],
      "execution_count": 0,
      "outputs": []
    },
    {
      "cell_type": "code",
      "metadata": {
        "id": "oxMU1ZIt-PrQ",
        "colab_type": "code",
        "outputId": "78510fe6-e780-4ee0-fc74-e30635498d02",
        "colab": {
          "base_uri": "https://localhost:8080/",
          "height": 221
        }
      },
      "source": [
        "df_raw['SPECIFIC_DIAG'].value_counts(dropna = False)"
      ],
      "execution_count": 0,
      "outputs": [
        {
          "output_type": "execute_result",
          "data": {
            "text/plain": [
              "OTRAS FORMAS DE ENFERMEDAD CARDIACA (420-429)                           864\n",
              "NaN                                                                     776\n",
              "ARTROPATÍAS Y TRASTORNOS RELACIONADAS (710-719)                         766\n",
              "SÍNTOMAS (780-789)                                                      690\n",
              "FRACTURAS (800-829)                                                     623\n",
              "                                                                       ... \n",
              "ENFERMEDADES BACTERIANAS ZOONOSICAS (020-027)                             1\n",
              "LESION SUPERFICIAL (910-919)                                              1\n",
              "HELMINTIASIS (120-129)                                                    1\n",
              "COMPLICACIONES PRINCIPALMENTE RELACIONADAS CON EL EMBARAZO (640-649)      1\n",
              "LESIÓN POR APLASTAMIENTO (925-929)                                        1\n",
              "Name: SPECIFIC_DIAG, Length: 88, dtype: int64"
            ]
          },
          "metadata": {
            "tags": []
          },
          "execution_count": 108
        }
      ]
    },
    {
      "cell_type": "code",
      "metadata": {
        "id": "av_LBhEFMe2a",
        "colab_type": "code",
        "colab": {}
      },
      "source": [
        "df_raw.to_excel('/content/drive/My Drive/Datos_medicos/datos_medicos.xlsx')"
      ],
      "execution_count": 0,
      "outputs": []
    }
  ]
}